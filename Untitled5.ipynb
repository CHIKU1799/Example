{
 "cells": [
  {
   "cell_type": "code",
   "execution_count": 2,
   "id": "42a9534a-b6d8-4440-be51-0d3b303c0bca",
   "metadata": {},
   "outputs": [
    {
     "name": "stdout",
     "output_type": "stream",
     "text": [
      "216\n"
     ]
    }
   ],
   "source": [
    "def power(n,k):\n",
    "    if k==0:\n",
    "        return 1\n",
    "    else:\n",
    "        return n*power(n,k-1)\n",
    "    \n",
    "n=2\n",
    "k=3\n",
    "print(power(6,3))"
   ]
  },
  {
   "cell_type": "code",
   "execution_count": null,
   "id": "1bdf2986-4b07-41a8-8268-952e3a29d37f",
   "metadata": {},
   "outputs": [],
   "source": []
  }
 ],
 "metadata": {
  "kernelspec": {
   "display_name": "Python 3 (ipykernel)",
   "language": "python",
   "name": "python3"
  },
  "language_info": {
   "codemirror_mode": {
    "name": "ipython",
    "version": 3
   },
   "file_extension": ".py",
   "mimetype": "text/x-python",
   "name": "python",
   "nbconvert_exporter": "python",
   "pygments_lexer": "ipython3",
   "version": "3.10.8"
  }
 },
 "nbformat": 4,
 "nbformat_minor": 5
}
