{
 "cells": [
  {
   "cell_type": "code",
   "execution_count": 26,
   "id": "50090f27-7fca-4642-ad4e-502943bdfe8b",
   "metadata": {},
   "outputs": [
    {
     "name": "stdout",
     "output_type": "stream",
     "text": [
      "False\n"
     ]
    }
   ],
   "source": [
    "def noduplicates(arr):\n",
    "    if len(arr)==1:\n",
    "        return True\n",
    "\n",
    "        \n",
    "    \n",
    "    for i in range(0,len(arr)-1):\n",
    "        for j in range(i+1,len(arr)):\n",
    "                    if arr[i]==arr[j]:\n",
    "                        return False   \n",
    "                       \n",
    "    return True\n",
    "                       \n",
    "                       \n",
    "                       \n",
    "arr=[1,2,3,4,2]\n",
    "result= noduplicates(arr)\n",
    "print(result)"
   ]
  },
  {
   "cell_type": "code",
   "execution_count": 27,
   "id": "fa1e911b-ce24-49d5-b036-9adc4cbb5330",
   "metadata": {},
   "outputs": [
    {
     "ename": "SyntaxError",
     "evalue": "incomplete input (1603536693.py, line 3)",
     "output_type": "error",
     "traceback": [
      "\u001b[0;36m  Cell \u001b[0;32mIn[27], line 3\u001b[0;36m\u001b[0m\n\u001b[0;31m    for i in range(0,len(A\u001b[0m\n\u001b[0m                          ^\u001b[0m\n\u001b[0;31mSyntaxError\u001b[0m\u001b[0;31m:\u001b[0m incomplete input\n"
     ]
    }
   ],
   "source": [
    "def jump(k):\n",
    "    B=[]\n",
    "    for i in range(0,len(A)):\n",
    "        "
   ]
  },
  {
   "cell_type": "code",
   "execution_count": null,
   "id": "8f65535f-3858-408f-a5bb-4361165929f4",
   "metadata": {},
   "outputs": [],
   "source": []
  }
 ],
 "metadata": {
  "kernelspec": {
   "display_name": "Python 3 (ipykernel)",
   "language": "python",
   "name": "python3"
  },
  "language_info": {
   "codemirror_mode": {
    "name": "ipython",
    "version": 3
   },
   "file_extension": ".py",
   "mimetype": "text/x-python",
   "name": "python",
   "nbconvert_exporter": "python",
   "pygments_lexer": "ipython3",
   "version": "3.10.8"
  }
 },
 "nbformat": 4,
 "nbformat_minor": 5
}
