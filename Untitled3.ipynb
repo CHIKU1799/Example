{
 "cells": [
  {
   "cell_type": "code",
   "execution_count": 10,
   "id": "3b8e65a9-9eb3-4fd9-ae5e-11eb14173194",
   "metadata": {},
   "outputs": [
    {
     "name": "stdout",
     "output_type": "stream",
     "text": [
      "[5, 6, 7, 1, 2, 3, 4]\n"
     ]
    }
   ],
   "source": [
    "def jump(arr,k):\n",
    "    b = [0] * len(arr)\n",
    "    if len(arr)<=1:\n",
    "        return arr\n",
    "    for i in range(0,len(arr)):\n",
    "        b[(i+k)%len(arr)]=arr[i]\n",
    "    \n",
    "    return b\n",
    "\n",
    "arr=[1,2,3,4,5,6,7]\n",
    "k=3\n",
    "result=jump(arr,k)\n",
    "print(result)\n",
    "    "
   ]
  },
  {
   "cell_type": "code",
   "execution_count": 16,
   "id": "1dcbd96f-df39-4489-85e9-9037a1d2b9a1",
   "metadata": {},
   "outputs": [
    {
     "ename": "IndexError",
     "evalue": "list index out of range",
     "output_type": "error",
     "traceback": [
      "\u001b[0;31m---------------------------------------------------------------------------\u001b[0m",
      "\u001b[0;31mIndexError\u001b[0m                                Traceback (most recent call last)",
      "Cell \u001b[0;32mIn[16], line 7\u001b[0m\n\u001b[1;32m      4\u001b[0m         \u001b[38;5;28;01mreturn\u001b[39;00m arr\n\u001b[1;32m      6\u001b[0m arr\u001b[38;5;241m=\u001b[39m[\u001b[38;5;241m1\u001b[39m,\u001b[38;5;241m2\u001b[39m,\u001b[38;5;241m3\u001b[39m]\n\u001b[0;32m----> 7\u001b[0m b\u001b[38;5;241m=\u001b[39m\u001b[43mreverse\u001b[49m\u001b[43m(\u001b[49m\u001b[43marr\u001b[49m\u001b[43m)\u001b[49m\n\u001b[1;32m      8\u001b[0m \u001b[38;5;28mprint\u001b[39m(b)\n",
      "Cell \u001b[0;32mIn[16], line 3\u001b[0m, in \u001b[0;36mreverse\u001b[0;34m(arr)\u001b[0m\n\u001b[1;32m      1\u001b[0m \u001b[38;5;28;01mdef\u001b[39;00m \u001b[38;5;21mreverse\u001b[39m(arr):\n\u001b[1;32m      2\u001b[0m     \u001b[38;5;28;01mfor\u001b[39;00m i \u001b[38;5;129;01min\u001b[39;00m \u001b[38;5;28mrange\u001b[39m(\u001b[38;5;241m0\u001b[39m,\u001b[38;5;28mlen\u001b[39m(arr)):\n\u001b[0;32m----> 3\u001b[0m         arr[i]\u001b[38;5;241m=\u001b[39m\u001b[43marr\u001b[49m\u001b[43m[\u001b[49m\u001b[38;5;28;43mlen\u001b[39;49m\u001b[43m(\u001b[49m\u001b[43marr\u001b[49m\u001b[43m)\u001b[49m\u001b[38;5;241;43m-\u001b[39;49m\u001b[43mi\u001b[49m\u001b[43m]\u001b[49m\n\u001b[1;32m      4\u001b[0m         \u001b[38;5;28;01mreturn\u001b[39;00m arr\n",
      "\u001b[0;31mIndexError\u001b[0m: list index out of range"
     ]
    }
   ],
   "source": [
    "def reverse(arr):\n",
    "    for i in range(0,len(arr)):\n",
    "        arr[i]=arr[len(arr)-i]\n",
    "        return arr\n",
    "\n",
    "arr=[1,2,3]\n",
    "b=reverse(arr)\n",
    "print(b)"
   ]
  },
  {
   "cell_type": "code",
   "execution_count": 28,
   "id": "fff268f9-db83-4204-863d-6dbac0961dd9",
   "metadata": {},
   "outputs": [
    {
     "name": "stdout",
     "output_type": "stream",
     "text": [
      "6\n"
     ]
    }
   ],
   "source": [
    "def max(arr):\n",
    " max=arr[0]\n",
    " for i in range(0,len(arr)-1):\n",
    "    for j in range(i,len(arr)):\n",
    "       if arr[i]<arr[j]:\n",
    "         max=arr[j]\n",
    " \n",
    " \n",
    " return max\n",
    "\n",
    "arr=[1,2,4,5,6,2]\n",
    "t=max(arr)\n",
    "print(t)"
   ]
  },
  {
   "cell_type": "code",
   "execution_count": 30,
   "id": "abad0630-08a9-41a8-9818-4ed3cc81b94b",
   "metadata": {},
   "outputs": [
    {
     "name": "stdout",
     "output_type": "stream",
     "text": [
      "12\n"
     ]
    }
   ],
   "source": [
    "def max(arr):\n",
    " max=arr[0]\n",
    " for i in range(0,len(arr)):\n",
    "   if arr[i]>max:\n",
    "      max=arr[i]\n",
    " \n",
    " return max\n",
    "\n",
    "arr=[1,2,4,5,6,12]\n",
    "t=max(arr)\n",
    "print(t)"
   ]
  },
  {
   "cell_type": "code",
   "execution_count": 35,
   "id": "64e11647-8158-467a-aa0d-48c9c45ce6f7",
   "metadata": {},
   "outputs": [
    {
     "name": "stdout",
     "output_type": "stream",
     "text": [
      "<built-in method sort of list object at 0x7f56225589c0>\n"
     ]
    }
   ],
   "source": [
    "def deldup(arr):\n",
    "    arr2=arr.sort\n",
    "    return arr2\n",
    "   \n",
    "    \n",
    "arr=[1,2,4,5,6,12]\n",
    "t=deldup(arr)\n",
    "print(t)\n"
   ]
  },
  {
   "cell_type": "code",
   "execution_count": 36,
   "id": "cbbcf074-ba49-4676-aefe-a95757358f1d",
   "metadata": {},
   "outputs": [
    {
     "name": "stdout",
     "output_type": "stream",
     "text": [
      "[1, 2, 4, 5, 6, 12]\n"
     ]
    }
   ],
   "source": [
    "def deldup(arr):\n",
    "    arr = list(set(arr))  # Remove duplicates by converting to a set and back to a list\n",
    "    arr.sort()  # Sort the list in place\n",
    "    return arr\n",
    "\n",
    "arr = [1, 2, 4, 5, 6, 12, 2, 4, 5]\n",
    "t = deldup(arr)\n",
    "print(t)\n"
   ]
  },
  {
   "cell_type": "code",
   "execution_count": null,
   "id": "1c90c00c-506d-47ea-ade1-757790fd4a56",
   "metadata": {},
   "outputs": [],
   "source": []
  }
 ],
 "metadata": {
  "kernelspec": {
   "display_name": "Python 3 (ipykernel)",
   "language": "python",
   "name": "python3"
  },
  "language_info": {
   "codemirror_mode": {
    "name": "ipython",
    "version": 3
   },
   "file_extension": ".py",
   "mimetype": "text/x-python",
   "name": "python",
   "nbconvert_exporter": "python",
   "pygments_lexer": "ipython3",
   "version": "3.10.8"
  }
 },
 "nbformat": 4,
 "nbformat_minor": 5
}
