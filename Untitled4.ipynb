{
 "cells": [
  {
   "cell_type": "code",
   "execution_count": 5,
   "id": "0eba49ef-ee2b-4327-9ea1-d2268144adf6",
   "metadata": {},
   "outputs": [
    {
     "name": "stdout",
     "output_type": "stream",
     "text": [
      "10\n"
     ]
    }
   ],
   "source": [
    "def sum(n):\n",
    "    sum=0\n",
    "    while n>=1:\n",
    "        rem=n%10\n",
    "        n=n//10\n",
    "        sum=sum+rem\n",
    "    \n",
    "    return sum\n",
    "        \n",
    "n=1234\n",
    "result=sum(1234)\n",
    "print(result)\n",
    "        "
   ]
  },
  {
   "cell_type": "code",
   "execution_count": null,
   "id": "58993c1a-3874-44e7-b172-06b4006bb080",
   "metadata": {},
   "outputs": [],
   "source": []
  }
 ],
 "metadata": {
  "kernelspec": {
   "display_name": "Python 3 (ipykernel)",
   "language": "python",
   "name": "python3"
  },
  "language_info": {
   "codemirror_mode": {
    "name": "ipython",
    "version": 3
   },
   "file_extension": ".py",
   "mimetype": "text/x-python",
   "name": "python",
   "nbconvert_exporter": "python",
   "pygments_lexer": "ipython3",
   "version": "3.10.8"
  }
 },
 "nbformat": 4,
 "nbformat_minor": 5
}
