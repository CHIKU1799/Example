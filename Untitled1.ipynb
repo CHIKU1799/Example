{
 "cells": [
  {
   "cell_type": "code",
   "execution_count": 8,
   "id": "e41db14b-f774-44f2-bd66-609758d747ca",
   "metadata": {},
   "outputs": [
    {
     "name": "stdout",
     "output_type": "stream",
     "text": [
      "720\n"
     ]
    }
   ],
   "source": [
    "def factorial(n):\n",
    "\n",
    "    if n<=1:\n",
    "        return n\n",
    "\n",
    "\n",
    "    return n*factorial(n-1)\n",
    "\n",
    "\n",
    "n=6\n",
    "\n",
    "result=factorial(n)\n",
    "\n",
    "print(result)"
   ]
  },
  {
   "cell_type": "code",
   "execution_count": 16,
   "id": "4669a31d-0b07-4d50-8606-6e0e9c23ce64",
   "metadata": {},
   "outputs": [
    {
     "name": "stdout",
     "output_type": "stream",
     "text": [
      "34\n"
     ]
    }
   ],
   "source": [
    "def fibonnaci(n):\n",
    "    \n",
    "    if n<=1:\n",
    "        return n\n",
    "    \n",
    "    return fibonnaci(n-1)+fibonnaci(n-2)\n",
    "\n",
    "n=9\n",
    "result=fibonnaci(n)\n",
    "print(result)\n"
   ]
  },
  {
   "cell_type": "code",
   "execution_count": 19,
   "id": "125f809c-b5a3-4b78-a119-e321aa29537f",
   "metadata": {},
   "outputs": [
    {
     "name": "stdout",
     "output_type": "stream",
     "text": [
      "8\n"
     ]
    }
   ],
   "source": [
    "def climb(n):\n",
    "    \n",
    "    if n<=3:\n",
    "        return n\n",
    "\n",
    "    return climb(n-1)+climb(n-2)\n",
    "\n",
    "n=5\n",
    "possibilities= climb(n)\n",
    "print(possibilities)"
   ]
  },
  {
   "cell_type": "code",
   "execution_count": null,
   "id": "45b620ff-d8c6-4a7e-b812-01c95d8fa65a",
   "metadata": {},
   "outputs": [],
   "source": []
  }
 ],
 "metadata": {
  "kernelspec": {
   "display_name": "Python 3 (ipykernel)",
   "language": "python",
   "name": "python3"
  },
  "language_info": {
   "codemirror_mode": {
    "name": "ipython",
    "version": 3
   },
   "file_extension": ".py",
   "mimetype": "text/x-python",
   "name": "python",
   "nbconvert_exporter": "python",
   "pygments_lexer": "ipython3",
   "version": "3.10.8"
  }
 },
 "nbformat": 4,
 "nbformat_minor": 5
}
