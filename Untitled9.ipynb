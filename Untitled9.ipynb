{
 "cells": [
  {
   "cell_type": "code",
   "execution_count": 2,
   "id": "20d5e4cc-9cde-4c84-84c3-10df7b529ade",
   "metadata": {},
   "outputs": [
    {
     "ename": "NameError",
     "evalue": "name 'a' is not defined",
     "output_type": "error",
     "traceback": [
      "\u001b[0;31m---------------------------------------------------------------------------\u001b[0m",
      "\u001b[0;31mNameError\u001b[0m                                 Traceback (most recent call last)",
      "Cell \u001b[0;32mIn[2], line 2\u001b[0m\n\u001b[1;32m      1\u001b[0m l\u001b[38;5;241m=\u001b[39m[]\n\u001b[0;32m----> 2\u001b[0m l\u001b[38;5;241m.\u001b[39mappend([\u001b[43ma\u001b[49m,b,c])\n\u001b[1;32m      3\u001b[0m l\u001b[38;5;241m.\u001b[39mappend([d,e,f])\n\u001b[1;32m      4\u001b[0m l\u001b[38;5;241m.\u001b[39mappend([g,h,i])\n",
      "\u001b[0;31mNameError\u001b[0m: name 'a' is not defined"
     ]
    }
   ],
   "source": [
    "l=[]\n",
    "l.append([a,b,c])\n",
    "l.append([d,e,f])\n",
    "l.append([g,h,i])\n",
    "l.append([j,k,l])\n",
    "l.append([m,n,o])\n",
    "l.append([p,q,r,s])\n",
    "l.append([t,u,v])\n",
    "l.append([w,x,y,z])\n",
    "print(l)\n"
   ]
  },
  {
   "cell_type": "code",
   "execution_count": null,
   "id": "ae88f51a-adbe-4b2f-bffa-63df6003f633",
   "metadata": {},
   "outputs": [],
   "source": []
  }
 ],
 "metadata": {
  "kernelspec": {
   "display_name": "Python 3 (ipykernel)",
   "language": "python",
   "name": "python3"
  },
  "language_info": {
   "codemirror_mode": {
    "name": "ipython",
    "version": 3
   },
   "file_extension": ".py",
   "mimetype": "text/x-python",
   "name": "python",
   "nbconvert_exporter": "python",
   "pygments_lexer": "ipython3",
   "version": "3.10.8"
  }
 },
 "nbformat": 4,
 "nbformat_minor": 5
}
